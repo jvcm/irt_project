{
 "cells": [
  {
   "cell_type": "code",
   "execution_count": null,
   "metadata": {},
   "outputs": [],
   "source": [
    "import warnings\n",
    "warnings.filterwarnings('ignore')"
   ]
  },
  {
   "cell_type": "code",
   "execution_count": null,
   "metadata": {},
   "outputs": [],
   "source": [
    "import pandas as pd\n",
    "import numpy as np\n",
    "import matplotlib as mpl\n",
    "from mpl_toolkits.mplot3d import Axes3D\n",
    "import matplotlib.pyplot as plt\n",
    "import seaborn as sns\n",
    "sns.set()\n",
    "from irt import IRTModel\n",
    "from sklearn import svm\n",
    "from sklearn.linear_model import SGDRegressor, LinearRegression, BayesianRidge, Lasso\n",
    "from sklearn.neighbors import KNeighborsRegressor\n",
    "from sklearn.tree import DecisionTreeRegressor\n",
    "from sklearn.neural_network import MLPRegressor\n",
    "from sklearn.model_selection import train_test_split\n",
    "from sklearn.ensemble import RandomForestRegressor, AdaBoostRegressor\n",
    "from beta_irt.visualization.plots import newline\n",
    "from beta_irt.visualization.plots import plot_parameters\n",
    "from irt import beta_irt\n",
    "from sklearn.decomposition import PCA"
   ]
  },
  {
   "cell_type": "markdown",
   "metadata": {},
   "source": [
    "# Data set"
   ]
  },
  {
   "cell_type": "code",
   "execution_count": null,
   "metadata": {},
   "outputs": [],
   "source": [
    "# Path\n",
    "path_data = './data/'\n",
    "path_uci = './data/UCI - 45/'\n",
    "\n",
    "# Name of data set\n",
    "name = 'mpg'\n",
    "\n",
    "# Read csv\n",
    "data = pd.read_csv(path_uci + name + '.csv')\n",
    "data = data.dropna()"
   ]
  },
  {
   "cell_type": "markdown",
   "metadata": {},
   "source": [
    "## Pre processing"
   ]
  },
  {
   "cell_type": "markdown",
   "metadata": {},
   "source": [
    "Variable selection"
   ]
  },
  {
   "cell_type": "code",
   "execution_count": null,
   "metadata": {},
   "outputs": [],
   "source": [
    "X = data.iloc[:, 1:-3]\n",
    "y = data.iloc[:, 0]"
   ]
  },
  {
   "cell_type": "markdown",
   "metadata": {},
   "source": [
    "Pre processing"
   ]
  },
  {
   "cell_type": "code",
   "execution_count": null,
   "metadata": {},
   "outputs": [],
   "source": [
    "# Split data set\n",
    "rd = 42\n",
    "X_train, X_test, y_train, y_test = train_test_split(X, y, test_size=0.2, random_state = rd)\n",
    "\n",
    "# Principal Component Analysis\n",
    "pca = PCA(n_components= 1)\n",
    "X_train = pca.fit_transform(X_train)\n",
    "X_test = pca.transform(X_test)"
   ]
  },
  {
   "cell_type": "markdown",
   "metadata": {},
   "source": [
    "Generate noise"
   ]
  },
  {
   "cell_type": "code",
   "execution_count": null,
   "metadata": {},
   "outputs": [],
   "source": [
    "# Noise generated\n",
    "noise_train = np.random.normal(loc=0.0, scale= 8, size= len(y_train))\n",
    "noise_test = np.random.normal(loc=0.0, scale= 8, size= len(y_test))\n",
    "\n",
    "# Apply noise\n",
    "y_train += noise_train\n",
    "y_test += noise_test\n",
    "\n",
    "# Plot\n",
    "plt.figure(figsize=(7, 3))\n",
    "plt.hist(noise_train, label='Train set')\n",
    "plt.hist(noise_test, label='Test set')\n",
    "plt.ylabel('Frequency')\n",
    "plt.xlabel('Noise')\n",
    "plt.legend()\n",
    "plt.show()"
   ]
  },
  {
   "cell_type": "markdown",
   "metadata": {},
   "source": [
    "This part is where data for BIRT models are generated."
   ]
  },
  {
   "cell_type": "code",
   "execution_count": null,
   "metadata": {},
   "outputs": [],
   "source": [
    "# Regression Models\n",
    "models = [LinearRegression(), BayesianRidge(), svm.SVR(kernel= 'linear'), svm.SVR(kernel = 'rbf'),\\\n",
    "     KNeighborsRegressor(), DecisionTreeRegressor(), RandomForestRegressor(),\\\n",
    "          AdaBoostRegressor(), MLPRegressor(max_iter=1000, solver= 'lbfgs'), MLPRegressor(hidden_layer_sizes=(50,), max_iter=1000, solver= 'adam')]\n",
    "\n",
    "# Generate abilities/parameters for BIRT and other info.\n",
    "Irt = IRTModel(models= models)\n",
    "Irt.irtMatrix(X_train = X_train, y_train = y_train, X_test= X_test, y_test= y_test, normalize= True, base_models= True, name= name, rd= rd)"
   ]
  },
  {
   "cell_type": "markdown",
   "metadata": {},
   "source": [
    "It is required to run 'betairt_test.py' with the same data generated above."
   ]
  },
  {
   "cell_type": "markdown",
   "metadata": {},
   "source": [
    "# ICC"
   ]
  },
  {
   "cell_type": "markdown",
   "metadata": {},
   "source": [
    "Item-Response Matrix:"
   ]
  },
  {
   "cell_type": "code",
   "execution_count": null,
   "metadata": {},
   "outputs": [],
   "source": [
    "path = './beta_irt/results/'\n",
    "folder = 'mpg/'\n",
    "name = 'mpg_s79_f20_sd42'"
   ]
  },
  {
   "cell_type": "code",
   "execution_count": null,
   "metadata": {},
   "outputs": [],
   "source": [
    "irt = pd.read_csv('./beta_irt/irt_data_' + name + '.csv')\n",
    "X_pc1 = pd.read_csv('./beta_irt/xtest_' + name + '.csv').iloc[:,0].values.reshape(-1,1)\n",
    "abilities = pd.read_csv(path + folder + 'irt_ability_vi_'+ name +'_am1@0_as1@0.csv')\n",
    "ind = list(y_test.index)\n",
    "parameters = pd.read_csv(path + folder + 'irt_parameters_vi_'+ name +'_am1@0_as1@0.csv')\n",
    "parameters.index = ind\n",
    "irt.index = ind"
   ]
  },
  {
   "cell_type": "code",
   "execution_count": null,
   "metadata": {},
   "outputs": [],
   "source": [
    "irt.head()"
   ]
  },
  {
   "cell_type": "markdown",
   "metadata": {},
   "source": [
    "Search for instance:"
   ]
  },
  {
   "cell_type": "code",
   "execution_count": null,
   "metadata": {},
   "outputs": [],
   "source": [
    "instance = 257\n",
    "irt.loc[irt.index == instance]"
   ]
  },
  {
   "cell_type": "code",
   "execution_count": null,
   "metadata": {},
   "outputs": [],
   "source": [
    "difficulty = parameters.iloc[:,0].values\n",
    "discrimination = parameters.iloc[:,1].values"
   ]
  },
  {
   "cell_type": "code",
   "execution_count": null,
   "metadata": {},
   "outputs": [],
   "source": [
    "ab = np.linspace(0.0001, 0.9999, 200)"
   ]
  },
  {
   "cell_type": "markdown",
   "metadata": {},
   "source": [
    "## Plot parameters"
   ]
  },
  {
   "cell_type": "code",
   "execution_count": null,
   "metadata": {},
   "outputs": [],
   "source": [
    "concat = np.concatenate((X_pc1, y_test.values.reshape(-1,1)), axis = 1)"
   ]
  },
  {
   "cell_type": "code",
   "execution_count": null,
   "metadata": {},
   "outputs": [],
   "source": [
    "plt.figure(figsize=(10, 6))\n",
    "plt.scatter(concat[:,0],concat[:,1])\n",
    "for i, txt in enumerate(ind):\n",
    "    plt.text(concat[i,0],concat[i,1], str(txt), fontsize=8)\n",
    "#     plt.text(concat[i,0],concat[i,1], str(txt), fontsize=8)"
   ]
  },
  {
   "cell_type": "code",
   "execution_count": null,
   "metadata": {
    "scrolled": false
   },
   "outputs": [],
   "source": [
    "plot_parameters(concat, delta = difficulty, a = discrimination, noise = noise_test, models= Irt.models[:5]).show()"
   ]
  },
  {
   "cell_type": "code",
   "execution_count": null,
   "metadata": {},
   "outputs": [],
   "source": [
    "chosen_i = [259, 95, 338, 243]"
   ]
  },
  {
   "cell_type": "code",
   "execution_count": null,
   "metadata": {
    "scrolled": false
   },
   "outputs": [],
   "source": [
    "plt.figure(figsize=(12, 12))\n",
    "for sub, i in enumerate(chosen_i):\n",
    "    plt.subplot(2, 2, sub+1)\n",
    "    par = parameters.loc[i,:].values\n",
    "    diff = par[0]\n",
    "    disc = par[1]\n",
    "    E = [beta_irt(x, diff, disc) for x in ab]\n",
    "    middle = np.where(np.array(E)>0.499)[0][:2]\n",
    "    p1 = [ab[middle[0]], E[middle[0]]]\n",
    "    p2 = [ab[middle[1]], E[middle[1]]]\n",
    "    newline(p1,p2)\n",
    "    slope = (E[middle[1]] - E[middle[0]])/(ab[middle[1]] - ab[middle[0]])\n",
    "    plt.text(p2[0], p2[1], 'slope = '+str(round(slope, 3)),fontsize=8)\n",
    "    plt.plot(ab, E,)\n",
    "    plt.plot([ab[middle[0]], ab[middle[0]]],[0, E[middle[0]]], '--r')\n",
    "    plt.plot([0, ab[middle[0]]],[E[middle[0]], E[middle[0]]], '--r')\n",
    "    plt.scatter(abilities['ability'].values[:-1], irt.loc[irt.index == i].values[0], marker= 'x', c = 'red')\n",
    "    plt.ylabel('Response')\n",
    "    plt.xlabel('Ability')\n",
    "    plt.xlim([-0.01, 1.01])\n",
    "    plt.ylim([-0.01, 1.01])\n",
    "    plt.title('Instance ' + str(i))"
   ]
  },
  {
   "cell_type": "code",
   "execution_count": null,
   "metadata": {},
   "outputs": [],
   "source": [
    "plt.figure(figsize=(8, 6))\n",
    "for sub, i in enumerate(chosen_i):\n",
    "#     plt.subplot(2, 2, sub+1)\n",
    "    par = parameters.loc[i,:].values\n",
    "    diff = par[0]\n",
    "    disc = par[1]\n",
    "    E = np.array([beta_irt(x, diff, disc) for x in ab])\n",
    "    Error = (1 - E)/E\n",
    "    plt.plot(ab, Error, label = 'Instance ' + str(i))\n",
    "#     plt.plot([ab[middle[0]], ab[middle[0]]],[0, E[middle[0]]], '--r')\n",
    "#     plt.plot([0, ab[middle[0]]],[E[middle[0]], E[middle[0]]], '--r')\n",
    "    err = irt.loc[irt.index == i].values[0]\n",
    "#     plt.scatter(abilities['ability'].values[:-1], (1-err)/err, marker= 'x', c = 'red')\n",
    "    plt.ylabel('Exp. Error')\n",
    "    plt.xlabel('Ability')\n",
    "    plt.xlim([-0.01, 1.01])\n",
    "    plt.ylim([-0.01, 10.01])\n",
    "#     plt.title('')\n",
    "plt.legend()\n",
    "plt.show()"
   ]
  },
  {
   "cell_type": "markdown",
   "metadata": {},
   "source": [
    "## MAE x Ability"
   ]
  },
  {
   "cell_type": "code",
   "execution_count": null,
   "metadata": {},
   "outputs": [],
   "source": [
    "mae = np.zeros(len(abilities)-1)\n",
    "err_rel = np.absolute(y_test - y_test.mean())\n",
    "for i, mod in enumerate(abilities.iloc[:-1, 0]):\n",
    "    for j, rel in enumerate(err_rel):\n",
    "        if mod == 'Worst':\n",
    "            continue\n",
    "        else:\n",
    "            y = irt.iloc[j, i]\n",
    "            mae[i] = mae[i] + ((1 - y)/y)*rel\n",
    "mae = mae/len(y_test)\n",
    "mae = np.delete(mae, -1)"
   ]
  },
  {
   "cell_type": "code",
   "execution_count": null,
   "metadata": {},
   "outputs": [],
   "source": [
    "mdls = ['  LR', 'Bayes', 'SVR - Linear', 'SVR - Rbf', 'KNR', 'DT', 'RF', 'AdaB', 'MLP (100)', 'MLP (50-50)', 'Optimal', 'Medium']\n",
    "c_n = 'C0'\n",
    "c_e = 'red'\n",
    "color = [c_n, c_n,c_n,c_n,c_n,c_n,c_n,c_n,c_n,c_n,c_e,c_e]"
   ]
  },
  {
   "cell_type": "code",
   "execution_count": null,
   "metadata": {},
   "outputs": [],
   "source": [
    "plt.figure(figsize=(12, 8))\n",
    "plt.scatter(abilities.iloc[:-2, 1], mae, c= color)\n",
    "for i, txt in enumerate(mdls):\n",
    "    plt.text(abilities.iloc[i, 1], mae[i], ' '+txt, fontsize=8)\n",
    "plt.ylabel('Mean Absolute Error (MAE)')\n",
    "plt.xlabel('Ability')\n",
    "plt.title('Ability x MAE')\n",
    "plt.show()"
   ]
  }
 ],
 "metadata": {
  "kernelspec": {
   "display_name": "Python 3",
   "language": "python",
   "name": "python3"
  },
  "language_info": {
   "codemirror_mode": {
    "name": "ipython",
    "version": 3
   },
   "file_extension": ".py",
   "mimetype": "text/x-python",
   "name": "python",
   "nbconvert_exporter": "python",
   "pygments_lexer": "ipython3",
   "version": "3.6.7"
  }
 },
 "nbformat": 4,
 "nbformat_minor": 2
}

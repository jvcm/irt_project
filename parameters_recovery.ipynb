{
 "cells": [
  {
   "cell_type": "code",
   "execution_count": 1,
   "metadata": {},
   "outputs": [],
   "source": [
    "import numpy as np\n",
    "import pandas as pd\n",
    "from numpy.random import beta\n",
    "from numpy.random import normal\n",
    "from numpy.random import gamma\n",
    "import matplotlib.pyplot as plt\n",
    "import os\n",
    "from scipy.stats import ks_2samp\n",
    "from scipy.stats import wilcoxon"
   ]
  },
  {
   "cell_type": "markdown",
   "metadata": {},
   "source": [
    "# Parameters recovery"
   ]
  },
  {
   "cell_type": "markdown",
   "metadata": {},
   "source": [
    "## Difficulty/Discrimination and Ability"
   ]
  },
  {
   "cell_type": "code",
   "execution_count": 2,
   "metadata": {},
   "outputs": [],
   "source": [
    "N = 500 # Respondents\n",
    "M = 50 # Items\n",
    "\n",
    "ability = beta(a = 1.0, b = 1.0, size = N)\n",
    "difficulty = beta(a = 1.0, b = 1.0, size = M)\n",
    "discrimination = normal(loc = 1.0, scale = 1, size = M)\n",
    "parameters = np.array([difficulty, discrimination]).T"
   ]
  },
  {
   "cell_type": "markdown",
   "metadata": {},
   "source": [
    "## Estimating Alpha and Beta parameters"
   ]
  },
  {
   "cell_type": "code",
   "execution_count": 4,
   "metadata": {},
   "outputs": [],
   "source": [
    "def Alpha_ij(theta_i, delta_j, a_j):\n",
    "    div = delta_j/theta_i\n",
    "    alpha = div ** (a_j)\n",
    "    return alpha"
   ]
  },
  {
   "cell_type": "code",
   "execution_count": 5,
   "metadata": {},
   "outputs": [],
   "source": [
    "def Beta_ij(theta_i, delta_j, a_j):\n",
    "    num = (1 - delta_j)\n",
    "    denom = (1 - theta_i)\n",
    "    div = num/denom\n",
    "    beta = div ** (a_j)\n",
    "    return beta"
   ]
  },
  {
   "cell_type": "code",
   "execution_count": 6,
   "metadata": {},
   "outputs": [],
   "source": [
    "Alpha = np.zeros((N, M))\n",
    "Beta = np.zeros((N, M))\n",
    "for i, theta in enumerate(ability):\n",
    "    for j, params in enumerate(parameters):\n",
    "        Alpha[i, j] = Alpha_ij(theta, params[0], params[1])\n",
    "        Beta[i, j] = Beta_ij(theta, params[0], params[1])"
   ]
  },
  {
   "cell_type": "markdown",
   "metadata": {},
   "source": [
    "## Estimating the errors from Gamma distribution"
   ]
  },
  {
   "cell_type": "code",
   "execution_count": 7,
   "metadata": {},
   "outputs": [],
   "source": [
    "# Gamma parameterisation\n",
    "# shape, scale, = alpha, 1/beta\n",
    "\n",
    "errors = gamma(shape = Alpha, scale = 1/Beta)"
   ]
  },
  {
   "cell_type": "code",
   "execution_count": 8,
   "metadata": {},
   "outputs": [
    {
     "data": {
      "text/plain": [
       "(500, 50)"
      ]
     },
     "execution_count": 8,
     "metadata": {},
     "output_type": "execute_result"
    }
   ],
   "source": [
    "errors.shape"
   ]
  },
  {
   "cell_type": "code",
   "execution_count": 9,
   "metadata": {},
   "outputs": [],
   "source": [
    "responses = 1/(1 + errors)\n",
    "responses = np.clip(responses, 1e-7, 1-1e-7)"
   ]
  },
  {
   "cell_type": "code",
   "execution_count": 11,
   "metadata": {},
   "outputs": [],
   "source": [
    "name = 'irt_data_recovery_s' + str(M) + '_f0_sd0.csv'\n",
    "header = str(list(range(N)))[1:-1]\n",
    "np.savetxt('./beta_irt/' + name, responses.T, delimiter=',', header=header)"
   ]
  },
  {
   "cell_type": "markdown",
   "metadata": {},
   "source": [
    "## Inference to find new Parameters and Abilities"
   ]
  },
  {
   "cell_type": "code",
   "execution_count": 12,
   "metadata": {},
   "outputs": [],
   "source": [
    "os.chdir('./beta_irt/')\n",
    "os.system('python betairt_test.py ' + name)\n",
    "os.chdir('..')"
   ]
  },
  {
   "cell_type": "code",
   "execution_count": 15,
   "metadata": {},
   "outputs": [],
   "source": [
    "parameters_ = pd.read_csv('./beta_irt/results/recovery/irt_parameters_vi_recovery_s' + str(len(difficulty)) + '_f0_sd0_am1@0_as1@0.csv')\n",
    "ability_ = pd.read_csv('./beta_irt/results/recovery/irt_ability_vi_recovery_s' + str(len(difficulty)) + '_f0_sd0_am1@0_as1@0.csv')"
   ]
  },
  {
   "cell_type": "code",
   "execution_count": 20,
   "metadata": {},
   "outputs": [
    {
     "name": "stdout",
     "output_type": "stream",
     "text": [
      "WilcoxonResult(statistic=478.0, pvalue=0.12363399711559386)\n",
      "WilcoxonResult(statistic=458.0, pvalue=0.08313770889364551)\n",
      "WilcoxonResult(statistic=48881.0, pvalue=2.1182717558476713e-05)\n"
     ]
    },
    {
     "data": {
      "image/png": "[encoded data removed]",
      "text/plain": [
       "<Figure size 1296x360 with 3 Axes>"
      ]
     },
     "metadata": {
      "needs_background": "light"
     },
     "output_type": "display_data"
    }
   ],
   "source": [
    "fig, axes = plt.subplots(nrows= 1, ncols= 3, figsize=(18,5))\n",
    "labels = ['Difficulty', 'Discrimination']\n",
    "for i in range(parameters.shape[1]):\n",
    "    axes[i].scatter(parameters[:, i], parameters_.values[:, i])\n",
    "    axes[i].set_xlabel(labels[i])\n",
    "    axes[i].set_ylabel(labels[i] + ' (Recover)')\n",
    "    print(wilcoxon(parameters[:, i], parameters_.values[:, i]))\n",
    "axes[-1].scatter(ability, ability_.iloc[:-1, -1].values)\n",
    "axes[-1].set_xlabel('Ability')\n",
    "axes[-1].set_ylabel('Ability (Recover)')\n",
    "\n",
    "for i in [0,2]:\n",
    "    axes[i].set_xlim([-.1,1.1])\n",
    "    axes[i].set_ylim([-.1,1.1])\n",
    "axes[1].set_xlim([-2,4])\n",
    "axes[1].set_ylim([-2,4])\n",
    "print(wilcoxon(ability, ability_.iloc[:-1, -1].values))"
   ]
  },
  {
   "cell_type": "code",
   "execution_count": null,
   "metadata": {},
   "outputs": [],
   "source": []
  }
 ],
 "metadata": {
  "kernelspec": {
   "display_name": "Python 3",
   "language": "python",
   "name": "python3"
  },
  "language_info": {
   "codemirror_mode": {
    "name": "ipython",
    "version": 3
   },
   "file_extension": ".py",
   "mimetype": "text/x-python",
   "name": "python",
   "nbconvert_exporter": "python",
   "pygments_lexer": "ipython3",
   "version": "3.6.8"
  }
 },
 "nbformat": 4,
 "nbformat_minor": 2
}

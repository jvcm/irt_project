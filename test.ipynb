{
 "cells": [
  {
   "cell_type": "code",
   "execution_count": 1,
   "metadata": {},
   "outputs": [],
   "source": [
    "import os\n",
    "import pandas as pd\n",
    "import numpy as np\n",
    "import matplotlib as mpl\n",
    "from mpl_toolkits.mplot3d import Axes3D\n",
    "import matplotlib.pyplot as plt\n",
    "import seaborn as sns\n",
    "sns.set()\n",
    "from irt import IRTModel\n",
    "from sklearn import svm\n",
    "from sklearn.linear_model import SGDRegressor, LinearRegression, BayesianRidge, Lasso\n",
    "from sklearn.neighbors import KNeighborsRegressor\n",
    "from sklearn.tree import DecisionTreeRegressor\n",
    "from sklearn.neural_network import MLPRegressor\n",
    "from sklearn.model_selection import train_test_split\n",
    "from sklearn.ensemble import RandomForestRegressor, AdaBoostRegressor\n",
    "from beta_irt.visualization.plots import newline\n",
    "from beta_irt.visualization.plots import plot_parameters\n",
    "from irt import beta_irt\n",
    "from sklearn.decomposition import PCA\n",
    "from mpl_toolkits.axes_grid1.inset_locator import zoomed_inset_axes\n",
    "from mpl_toolkits.axes_grid1.inset_locator import mark_inset\n",
    "from matplotlib import gridspec\n",
    "from sklearn.preprocessing import StandardScaler\n",
    "import edward as ed"
   ]
  },
  {
   "cell_type": "code",
   "execution_count": 2,
   "metadata": {
    "scrolled": true
   },
   "outputs": [
    {
     "name": "stdout",
     "output_type": "stream",
     "text": [
      " 3Dsn.csv\r\n",
      " 3D_spatial_network_description.txt\r\n",
      " 3D_spatial_network.xlsx\r\n",
      " airfoil.csv\r\n",
      " airfoil_self_noise_description.txt\r\n",
      " bike_sharing_day.csv\r\n",
      " bike_sharing_day_description.txt\r\n",
      " bike_sharing_hour.csv\r\n",
      " bike_sharing_hour_description.txt\r\n",
      " blog_feedback.csv\r\n",
      " blog_feedback_description.txt\r\n",
      " carbon_nanotubes.csv\r\n",
      " carbon_nanotubes_description.txt\r\n",
      " cargo_freight_tracking.csv\r\n",
      " cargo_freight_tracking_description.txt\r\n",
      " challenger_space_shuttle_description.txt\r\n",
      " challengerss.csv\r\n",
      " communities_crimes_unnormalized.csv\r\n",
      " communities_crimes_unnormalized_description.txt\r\n",
      " concrete_compressive_strength.csv\r\n",
      " concrete_compressive_strength_description.txt\r\n",
      " concrete_slump_test.csv\r\n",
      " concrete_slump_test_description.txt\r\n",
      " container_crane_controller.csv\r\n",
      " container_crane_controller_description.txt\r\n",
      " conventional_social_media_movies.csv\r\n",
      " conventional_social_media_movies_description.txt\r\n",
      " cycle_power_plant.csv\r\n",
      " cycle_power_plant_description.txt\r\n",
      " daily_demand_forecasting_orders.csv\r\n",
      " daily_demand_forecasting_orders_description.txt\r\n",
      " energy.csv\r\n",
      " energy.txt\r\n",
      " facebook_metrics.csv\r\n",
      " facebook_metrics_description.txt\r\n",
      " fertility_diagnosis.csv\r\n",
      " fertility_diagnosis_description.txt\r\n",
      " forest_fires.csv\r\n",
      " forest_fires_description.txt\r\n",
      "'geographical_original_ of_music_1.csv'\r\n",
      "'geographical_original_ of_music_1_description.txt'\r\n",
      "'geographical_original_ of_music_2.csv'\r\n",
      "'geographical_original_ of_music_2_description.txt'\r\n",
      " gps_trajectories_trackpoints.csv\r\n",
      " gps_trajectories_trackpoints_description.txt\r\n",
      " gps_trajectories_tracks.csv\r\n",
      " gps_trajectories_tracks_description.txt\r\n",
      " hardware.csv\r\n",
      " hardware_description.txt\r\n",
      " imports_85.csv\r\n",
      " imports_85.txt\r\n",
      " las_vegas_trip_advisor.csv\r\n",
      " las_vegas_trip_advisor_description.txt\r\n",
      " maintenance_naval_propulsion.csv\r\n",
      " maintenance_naval_propulsion_description.txt\r\n",
      " metabolic_reaction_network.csv\r\n",
      " metabolic_reaction_network_description.txt\r\n",
      " metabolic_relation_network.csv\r\n",
      " metabolic_relation_network_description.txt\r\n",
      " mpg_description.txt\r\n",
      " online_news_popularity.csv\r\n",
      " online_news_popularity_description.txt\r\n",
      " optical_interconnection_network.csv\r\n",
      " optical_interconnection_network_description.txt\r\n",
      " parkinsons_telemonitoring.csv\r\n",
      " parkinsons_telemonitoring_description.txt\r\n",
      " physicochemical_properties_PTS.csv\r\n",
      " physicochemical_properties_PTS_description.txt\r\n",
      " residential_building.csv\r\n",
      " residential_building.txt\r\n",
      " servo.csv\r\n",
      " servo_description.txt\r\n",
      " sgemm_gpu_kernel_performance.csv\r\n",
      " sgemm_gpu_kernel_performance.txt\r\n",
      " skillcraft_master_table.csv\r\n",
      " skillcraft_master_table_description.txt\r\n",
      " slice_localization.csv\r\n",
      " slice_localization_description.txt\r\n",
      " student_performance.csv\r\n",
      " student_performance.txt\r\n",
      " superconductivty.csv\r\n",
      " superconductivty.txt\r\n",
      " wiki4HE.csv\r\n",
      " wiki4HE_description.txt\r\n",
      " wine_quality_red.csv\r\n",
      " wine_quality_red_description.txt\r\n",
      " wine_quality_white.csv\r\n",
      " wine_quality_white_description.txt\r\n",
      " yacht_hydrodynamics.csv\r\n",
      " yacht_hydrodynamics_description.txt\r\n"
     ]
    }
   ],
   "source": [
    "!ls data/UCI\\ -\\ 45"
   ]
  },
  {
   "cell_type": "code",
   "execution_count": 742,
   "metadata": {},
   "outputs": [],
   "source": [
    "df = pd.read_csv('data/analcatdata_galapagos.csv', na_values=['?'])"
   ]
  },
  {
   "cell_type": "code",
   "execution_count": 743,
   "metadata": {},
   "outputs": [
    {
     "data": {
      "text/html": [
       "<div>\n",
       "<style scoped>\n",
       "    .dataframe tbody tr th:only-of-type {\n",
       "        vertical-align: middle;\n",
       "    }\n",
       "\n",
       "    .dataframe tbody tr th {\n",
       "        vertical-align: top;\n",
       "    }\n",
       "\n",
       "    .dataframe thead th {\n",
       "        text-align: right;\n",
       "    }\n",
       "</style>\n",
       "<table border=\"1\" class=\"dataframe\">\n",
       "  <thead>\n",
       "    <tr style=\"text-align: right;\">\n",
       "      <th></th>\n",
       "      <th>Island</th>\n",
       "      <th>Observed.species</th>\n",
       "      <th>Native.species</th>\n",
       "      <th>Area(km^2)</th>\n",
       "      <th>Elevation(m)</th>\n",
       "      <th>Distance.nearest.island(km)</th>\n",
       "      <th>Distance.Santa.Cruz(km)</th>\n",
       "      <th>Area.adj.island(km^2)</th>\n",
       "    </tr>\n",
       "  </thead>\n",
       "  <tbody>\n",
       "    <tr>\n",
       "      <th>0</th>\n",
       "      <td>Baltra</td>\n",
       "      <td>58</td>\n",
       "      <td>23.0</td>\n",
       "      <td>25.09</td>\n",
       "      <td>NaN</td>\n",
       "      <td>0.6</td>\n",
       "      <td>0.6</td>\n",
       "      <td>1.84</td>\n",
       "    </tr>\n",
       "    <tr>\n",
       "      <th>1</th>\n",
       "      <td>Bartolome</td>\n",
       "      <td>31</td>\n",
       "      <td>21.0</td>\n",
       "      <td>1.24</td>\n",
       "      <td>109.0</td>\n",
       "      <td>0.6</td>\n",
       "      <td>26.3</td>\n",
       "      <td>572.33</td>\n",
       "    </tr>\n",
       "    <tr>\n",
       "      <th>2</th>\n",
       "      <td>Caldwell</td>\n",
       "      <td>3</td>\n",
       "      <td>3.0</td>\n",
       "      <td>0.21</td>\n",
       "      <td>114.0</td>\n",
       "      <td>2.8</td>\n",
       "      <td>58.7</td>\n",
       "      <td>0.78</td>\n",
       "    </tr>\n",
       "    <tr>\n",
       "      <th>3</th>\n",
       "      <td>Champion</td>\n",
       "      <td>25</td>\n",
       "      <td>9.0</td>\n",
       "      <td>0.10</td>\n",
       "      <td>46.0</td>\n",
       "      <td>1.9</td>\n",
       "      <td>47.4</td>\n",
       "      <td>0.18</td>\n",
       "    </tr>\n",
       "    <tr>\n",
       "      <th>4</th>\n",
       "      <td>Caomano</td>\n",
       "      <td>2</td>\n",
       "      <td>1.0</td>\n",
       "      <td>0.05</td>\n",
       "      <td>NaN</td>\n",
       "      <td>1.9</td>\n",
       "      <td>1.9</td>\n",
       "      <td>903.82</td>\n",
       "    </tr>\n",
       "  </tbody>\n",
       "</table>\n",
       "</div>"
      ],
      "text/plain": [
       "      Island  Observed.species  Native.species  Area(km^2)  Elevation(m)  \\\n",
       "0     Baltra                58            23.0       25.09           NaN   \n",
       "1  Bartolome                31            21.0        1.24         109.0   \n",
       "2   Caldwell                 3             3.0        0.21         114.0   \n",
       "3   Champion                25             9.0        0.10          46.0   \n",
       "4    Caomano                 2             1.0        0.05           NaN   \n",
       "\n",
       "   Distance.nearest.island(km)  Distance.Santa.Cruz(km)  Area.adj.island(km^2)  \n",
       "0                          0.6                      0.6                   1.84  \n",
       "1                          0.6                     26.3                 572.33  \n",
       "2                          2.8                     58.7                   0.78  \n",
       "3                          1.9                     47.4                   0.18  \n",
       "4                          1.9                      1.9                 903.82  "
      ]
     },
     "execution_count": 743,
     "metadata": {},
     "output_type": "execute_result"
    }
   ],
   "source": [
    "df.head()"
   ]
  },
  {
   "cell_type": "code",
   "execution_count": 744,
   "metadata": {},
   "outputs": [
    {
     "name": "stdout",
     "output_type": "stream",
     "text": [
      "30 24 30\n"
     ]
    }
   ],
   "source": [
    "print(len(df), len(df.dropna()), len(df.drop_duplicates()))"
   ]
  },
  {
   "cell_type": "code",
   "execution_count": 338,
   "metadata": {},
   "outputs": [],
   "source": [
    "df = df.drop_duplicates()"
   ]
  },
  {
   "cell_type": "code",
   "execution_count": 441,
   "metadata": {},
   "outputs": [
    {
     "name": "stdout",
     "output_type": "stream",
     "text": [
      "<class 'pandas.core.frame.DataFrame'>\n",
      "Int64Index: 533 entries, 0 to 767\n",
      "Data columns (total 9 columns):\n",
      "buoy         533 non-null int64\n",
      "day          533 non-null int64\n",
      "latitude     533 non-null float64\n",
      "longitude    533 non-null float64\n",
      "zon_winds    533 non-null object\n",
      "mer_winds    533 non-null object\n",
      "humidity     533 non-null object\n",
      "air_temp     533 non-null object\n",
      "s_s_temp     533 non-null object\n",
      "dtypes: float64(2), int64(2), object(5)\n",
      "memory usage: 41.6+ KB\n"
     ]
    }
   ],
   "source": [
    "df.info()"
   ]
  },
  {
   "cell_type": "markdown",
   "metadata": {},
   "source": [
    "# >>>>>>>>>>>>>>>>>>>>>>>>>>>>>>>>>>>>>>>>"
   ]
  },
  {
   "cell_type": "code",
   "execution_count": 735,
   "metadata": {},
   "outputs": [],
   "source": [
    "import os\n",
    "import pandas as pd\n",
    "import numpy as np\n",
    "import matplotlib as mpl\n",
    "from mpl_toolkits.mplot3d import Axes3D\n",
    "import matplotlib.pyplot as plt\n",
    "import seaborn as sns\n",
    "sns.set()\n",
    "from irt import IRTModel\n",
    "from sklearn import svm\n",
    "from sklearn.linear_model import SGDRegressor, LinearRegression, BayesianRidge, Lasso\n",
    "from sklearn.neighbors import KNeighborsRegressor\n",
    "from sklearn.tree import DecisionTreeRegressor\n",
    "from sklearn.neural_network import MLPRegressor\n",
    "from sklearn.model_selection import train_test_split\n",
    "from sklearn.ensemble import RandomForestRegressor, AdaBoostRegressor\n",
    "from beta_irt.visualization.plots import newline\n",
    "from beta_irt.visualization.plots import plot_parameters\n",
    "from irt import beta_irt\n",
    "from sklearn.decomposition import PCA\n",
    "from mpl_toolkits.axes_grid1.inset_locator import zoomed_inset_axes\n",
    "from mpl_toolkits.axes_grid1.inset_locator import mark_inset\n",
    "from matplotlib import gridspec\n",
    "from sklearn.preprocessing import StandardScaler\n",
    "import edward as ed\n",
    "import os\n",
    "\n",
    "#-------------------------------------Pre-processing-------------------------------------#\n",
    "\n",
    "# Path\n",
    "path_data = './data/'\n",
    "path_uci = './data/UCI - 45/'\n",
    "\n",
    "# Name of data set\n",
    "name = 'analcatdata_michiganacc'\n",
    "\n",
    "# Read csv\n",
    "data = pd.read_csv(path_data + name + '.csv', na_values=['?'])\n",
    "data = data.dropna()\n",
    "\n",
    "# Parameters\n",
    "rd = 42\n",
    "noise_std = np.linspace(0, 0.8, 20)\n",
    "max_std = noise_std.max()\n",
    "\n",
    "# Variable selection\n",
    "X = data.iloc[:, -2].values.reshape(-1,1)\n",
    "y = data.iloc[:, -1]\n",
    "\n",
    "# Split data set\n",
    "X_train, X_test, y_train, y_test = train_test_split(X, y, test_size=0.2, random_state = rd)\n",
    "indexes = list(y_train.index)\n",
    "\n",
    "# Principal component analysis\n",
    "pca = PCA(n_components= 1)\n",
    "X_train = pca.fit_transform(X_train)\n",
    "X_test = pca.transform(X_test)\n",
    "\n",
    "# Standard scale\n",
    "sc_X = StandardScaler()\n",
    "X_train = sc_X.fit_transform(X_train)\n",
    "X_test = sc_X.transform(X_test)\n"
   ]
  },
  {
   "cell_type": "code",
   "execution_count": 738,
   "metadata": {},
   "outputs": [
    {
     "data": {
      "text/plain": [
       "<matplotlib.collections.PathCollection at 0x7fa6be26e630>"
      ]
     },
     "execution_count": 738,
     "metadata": {},
     "output_type": "execute_result"
    },
    {
     "data": {
      "image/png": "[encoded data removed]",
      "text/plain": [
       "<Figure size 432x288 with 1 Axes>"
      ]
     },
     "metadata": {},
     "output_type": "display_data"
    }
   ],
   "source": [
    "plt.scatter(X_train, y_train, s=5)"
   ]
  },
  {
   "cell_type": "code",
   "execution_count": 737,
   "metadata": {},
   "outputs": [
    {
     "data": {
      "text/plain": [
       "22"
      ]
     },
     "execution_count": 737,
     "metadata": {},
     "output_type": "execute_result"
    }
   ],
   "source": [
    "len(X_test)"
   ]
  },
  {
   "cell_type": "code",
   "execution_count": null,
   "metadata": {},
   "outputs": [],
   "source": []
  },
  {
   "cell_type": "code",
   "execution_count": null,
   "metadata": {},
   "outputs": [],
   "source": []
  },
  {
   "cell_type": "code",
   "execution_count": null,
   "metadata": {},
   "outputs": [],
   "source": []
  },
  {
   "cell_type": "code",
   "execution_count": null,
   "metadata": {},
   "outputs": [],
   "source": []
  },
  {
   "cell_type": "code",
   "execution_count": null,
   "metadata": {},
   "outputs": [],
   "source": []
  },
  {
   "cell_type": "code",
   "execution_count": null,
   "metadata": {},
   "outputs": [],
   "source": []
  },
  {
   "cell_type": "code",
   "execution_count": null,
   "metadata": {},
   "outputs": [],
   "source": []
  },
  {
   "cell_type": "code",
   "execution_count": null,
   "metadata": {},
   "outputs": [],
   "source": []
  },
  {
   "cell_type": "code",
   "execution_count": null,
   "metadata": {},
   "outputs": [],
   "source": []
  },
  {
   "cell_type": "code",
   "execution_count": null,
   "metadata": {},
   "outputs": [],
   "source": []
  },
  {
   "cell_type": "code",
   "execution_count": null,
   "metadata": {},
   "outputs": [],
   "source": []
  },
  {
   "cell_type": "code",
   "execution_count": null,
   "metadata": {},
   "outputs": [],
   "source": []
  },
  {
   "cell_type": "code",
   "execution_count": 7,
   "metadata": {
    "scrolled": true
   },
   "outputs": [],
   "source": [
    "path_data = './data/'\n",
    "path_uci = './data/SELECTED/'\n",
    "\n",
    "# Name of data set\n",
    "name = 'mpg'\n",
    "\n",
    "# Read csv\n",
    "data = pd.read_csv(path_uci + name + '.csv')\n",
    "data = data.dropna()\n",
    "\n",
    "# Parameters\n",
    "rd = 42\n",
    "noise_std = np.linspace(0, 0.6, 20)\n",
    "max_std = noise_std.max()\n",
    "\n",
    "# Variable selection\n",
    "X = data.iloc[:, 1:-3].values\n",
    "y = data.iloc[:, 0].values\n",
    "\n",
    "# Split data set\n",
    "X_train, X_test, y_train, y_test = train_test_split(X, y, test_size=0.2, random_state = rd)\n",
    "# indexes = list(y_train.index)\n",
    "\n",
    "# Principal component analysis\n",
    "pca = PCA(n_components= 1)\n",
    "X_train = pca.fit_transform(X_train)\n",
    "X_test = pca.transform(X_test)\n",
    "\n",
    "# Standard scale\n",
    "sc_X = StandardScaler()\n",
    "X_train = sc_X.fit_transform(X_train)\n",
    "X_test = sc_X.transform(X_test)\n",
    "\n",
    "# sc_y = StandardScaler()\n",
    "# y_train = sc_y.fit_transform(y_train.reshape(-1,1)).reshape(1,-1)[0]\n",
    "# y_test = sc_y.transform(y_test.reshape(-1,1)).reshape(1,-1)[0]\n",
    "\n",
    "# Noise gen\n",
    "noise_test = np.random.normal(loc=0.0, scale= 0.3, size= len(X_test))"
   ]
  },
  {
   "cell_type": "code",
   "execution_count": 8,
   "metadata": {
    "scrolled": true
   },
   "outputs": [
    {
     "data": {
      "text/plain": [
       "<matplotlib.collections.PathCollection at 0x7f0ad152ae80>"
      ]
     },
     "execution_count": 8,
     "metadata": {},
     "output_type": "execute_result"
    },
    {
     "data": {
      "image/png": "[encoded data removed]",
      "text/plain": [
       "<Figure size 432x288 with 1 Axes>"
      ]
     },
     "metadata": {
      "needs_background": "light"
     },
     "output_type": "display_data"
    }
   ],
   "source": [
    "plt.scatter(X_test , y_test)"
   ]
  },
  {
   "cell_type": "code",
   "execution_count": null,
   "metadata": {},
   "outputs": [],
   "source": []
  },
  {
   "cell_type": "code",
   "execution_count": null,
   "metadata": {},
   "outputs": [],
   "source": []
  },
  {
   "cell_type": "code",
   "execution_count": null,
   "metadata": {},
   "outputs": [],
   "source": []
  },
  {
   "cell_type": "code",
   "execution_count": null,
   "metadata": {},
   "outputs": [],
   "source": []
  },
  {
   "cell_type": "code",
   "execution_count": null,
   "metadata": {},
   "outputs": [],
   "source": []
  }
 ],
 "metadata": {
  "kernelspec": {
   "display_name": "Python 3",
   "language": "python",
   "name": "python3"
  },
  "language_info": {
   "codemirror_mode": {
    "name": "ipython",
    "version": 3
   },
   "file_extension": ".py",
   "mimetype": "text/x-python",
   "name": "python",
   "nbconvert_exporter": "python",
   "pygments_lexer": "ipython3",
   "version": "3.6.7"
  }
 },
 "nbformat": 4,
 "nbformat_minor": 2
}
